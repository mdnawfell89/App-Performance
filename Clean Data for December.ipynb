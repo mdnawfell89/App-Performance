{
 "cells": [
  {
   "cell_type": "code",
   "execution_count": 1,
   "metadata": {},
   "outputs": [],
   "source": [
    "#Important python libraries we will use in this  project\n",
    "\n",
    "import pandas as pd\n",
    "import numpy as np\n",
    "%matplotlib inline\n",
    "import matplotlib.pyplot as plt"
   ]
  },
  {
   "cell_type": "code",
   "execution_count": 2,
   "metadata": {},
   "outputs": [
    {
     "data": {
      "text/html": [
       "<div>\n",
       "<style scoped>\n",
       "    .dataframe tbody tr th:only-of-type {\n",
       "        vertical-align: middle;\n",
       "    }\n",
       "\n",
       "    .dataframe tbody tr th {\n",
       "        vertical-align: top;\n",
       "    }\n",
       "\n",
       "    .dataframe thead th {\n",
       "        text-align: right;\n",
       "    }\n",
       "</style>\n",
       "<table border=\"1\" class=\"dataframe\">\n",
       "  <thead>\n",
       "    <tr style=\"text-align: right;\">\n",
       "      <th></th>\n",
       "      <th>student_id</th>\n",
       "      <th>session_id</th>\n",
       "      <th>group_id</th>\n",
       "      <th>student_arrival_time</th>\n",
       "      <th>student_exit_time</th>\n",
       "      <th>session_start_time</th>\n",
       "      <th>session_end_time</th>\n",
       "    </tr>\n",
       "  </thead>\n",
       "  <tbody>\n",
       "    <tr>\n",
       "      <td>0</td>\n",
       "      <td>3529788</td>\n",
       "      <td>1252139</td>\n",
       "      <td>6250</td>\n",
       "      <td>2019-12-28 17:20:00.0</td>\n",
       "      <td>2019-12-28 17:20:55.0</td>\n",
       "      <td>2019-12-28 16:41:55.0</td>\n",
       "      <td>2019-12-28 17:23:12.0</td>\n",
       "    </tr>\n",
       "    <tr>\n",
       "      <td>1</td>\n",
       "      <td>3772226</td>\n",
       "      <td>1252139</td>\n",
       "      <td>6250</td>\n",
       "      <td>2019-12-28 17:20:01.0</td>\n",
       "      <td>2019-12-28 17:20:13.0</td>\n",
       "      <td>2019-12-28 16:41:55.0</td>\n",
       "      <td>2019-12-28 17:23:12.0</td>\n",
       "    </tr>\n",
       "    <tr>\n",
       "      <td>2</td>\n",
       "      <td>3711125</td>\n",
       "      <td>1252139</td>\n",
       "      <td>6250</td>\n",
       "      <td>2019-12-28 17:20:01.0</td>\n",
       "      <td>2019-12-28 17:21:32.0</td>\n",
       "      <td>2019-12-28 16:41:55.0</td>\n",
       "      <td>2019-12-28 17:23:12.0</td>\n",
       "    </tr>\n",
       "    <tr>\n",
       "      <td>3</td>\n",
       "      <td>3857804</td>\n",
       "      <td>1252139</td>\n",
       "      <td>6250</td>\n",
       "      <td>2019-12-28 17:20:10.0</td>\n",
       "      <td>2019-12-28 17:23:13.0</td>\n",
       "      <td>2019-12-28 16:41:55.0</td>\n",
       "      <td>2019-12-28 17:23:12.0</td>\n",
       "    </tr>\n",
       "    <tr>\n",
       "      <td>4</td>\n",
       "      <td>3962216</td>\n",
       "      <td>1252139</td>\n",
       "      <td>6250</td>\n",
       "      <td>2019-12-28 17:20:12.0</td>\n",
       "      <td>2019-12-28 17:20:41.0</td>\n",
       "      <td>2019-12-28 16:41:55.0</td>\n",
       "      <td>2019-12-28 17:23:12.0</td>\n",
       "    </tr>\n",
       "  </tbody>\n",
       "</table>\n",
       "</div>"
      ],
      "text/plain": [
       "   student_id  session_id  group_id   student_arrival_time  \\\n",
       "0     3529788     1252139      6250  2019-12-28 17:20:00.0   \n",
       "1     3772226     1252139      6250  2019-12-28 17:20:01.0   \n",
       "2     3711125     1252139      6250  2019-12-28 17:20:01.0   \n",
       "3     3857804     1252139      6250  2019-12-28 17:20:10.0   \n",
       "4     3962216     1252139      6250  2019-12-28 17:20:12.0   \n",
       "\n",
       "       student_exit_time     session_start_time       session_end_time  \n",
       "0  2019-12-28 17:20:55.0  2019-12-28 16:41:55.0  2019-12-28 17:23:12.0  \n",
       "1  2019-12-28 17:20:13.0  2019-12-28 16:41:55.0  2019-12-28 17:23:12.0  \n",
       "2  2019-12-28 17:21:32.0  2019-12-28 16:41:55.0  2019-12-28 17:23:12.0  \n",
       "3  2019-12-28 17:23:13.0  2019-12-28 16:41:55.0  2019-12-28 17:23:12.0  \n",
       "4  2019-12-28 17:20:41.0  2019-12-28 16:41:55.0  2019-12-28 17:23:12.0  "
      ]
     },
     "execution_count": 2,
     "metadata": {},
     "output_type": "execute_result"
    }
   ],
   "source": [
    "#Inserting the excel sheet that contains the data\n",
    "\n",
    "df = pd.read_excel(r'C:\\Users\\mdnaw\\Desktop\\Noon Project\\Student Data.xlsx')\n",
    "df.head() #This shows the first 4 rows of the data so we can visualize the data before analyzing it."
   ]
  },
  {
   "cell_type": "code",
   "execution_count": 31,
   "metadata": {},
   "outputs": [],
   "source": [
    "#From the excel sheet we call the needed columns and give them easier labels.\n",
    "\n",
    "session_id = df['session_id']\n",
    "start_session = df['session_start_time']\n",
    "end_session = df['session_end_time']\n",
    "arrival = df['student_arrival_time']\n",
    "exit = df['student_exit_time']\n",
    "group = df['group_id']\n",
    "ID = df['student_id']"
   ]
  },
  {
   "cell_type": "code",
   "execution_count": 32,
   "metadata": {},
   "outputs": [
    {
     "name": "stdout",
     "output_type": "stream",
     "text": [
      "11261\n"
     ]
    }
   ],
   "source": [
    "#Finding the total number of students by extracting student ID numbers from the data and excluding duplicates.\n",
    "\n",
    "ids = []\n",
    "for i in ID:\n",
    "    if i not in ids:\n",
    "        ids.append(i)\n",
    "print(len(ids))"
   ]
  },
  {
   "cell_type": "code",
   "execution_count": 34,
   "metadata": {},
   "outputs": [
    {
     "name": "stdout",
     "output_type": "stream",
     "text": [
      "Group ID [6250, 1341, 4858, 1329, 1351, 1442, 7339, 7369, 5475]\n"
     ]
    }
   ],
   "source": [
    "#Finding the total number of groups by extracting group ID numbers and avoiding duplicates.\n",
    "\n",
    "groups = []\n",
    "for i in group:\n",
    "    if i not in groups:\n",
    "        groups.append(i)\n",
    "print('Group ID',groups)"
   ]
  },
  {
   "cell_type": "code",
   "execution_count": 37,
   "metadata": {},
   "outputs": [
    {
     "name": "stdout",
     "output_type": "stream",
     "text": [
      "Number of students in each group\n",
      "5233\n",
      "3999\n",
      "1670\n",
      "1230\n",
      "4160\n",
      "3154\n",
      "1958\n",
      "973\n",
      "701\n"
     ]
    }
   ],
   "source": [
    "#counting the number of students in each group by using the for and the if loop.\n",
    "\n",
    "print ('Number of students in each group')\n",
    "#1st Group\n",
    "group_count1= []\n",
    "for i in range(0,len(group)):\n",
    "    if group[i]== 6250:\n",
    "        group_count1.append(i)\n",
    "print (len(group_count1))\n",
    "\n",
    "#2nd Group\n",
    "group_count2= []\n",
    "for i in range(0,len(group)):\n",
    "    if group[i]== 1341:\n",
    "        group_count2.append(i)\n",
    "print (len(group_count2))\n",
    "\n",
    "#3rd Group\n",
    "group_count3= []\n",
    "for i in range(0,len(group)):\n",
    "    if group[i]== 4858:\n",
    "        group_count3.append(i)\n",
    "print (len(group_count3))\n",
    "\n",
    "#4th Group\n",
    "group_count4= []\n",
    "for i in range(0,len(group)):\n",
    "    if group[i]== 1329:\n",
    "        group_count4.append(i)\n",
    "print (len(group_count4))\n",
    "\n",
    "#5th Group\n",
    "group_count5= []\n",
    "for i in range(0,len(group)):\n",
    "    if group[i]== 1351:\n",
    "        group_count5.append(i)\n",
    "print (len(group_count5))\n",
    "\n",
    "#6th Group\n",
    "group_count6= []\n",
    "for i in range(0,len(group)):\n",
    "    if group[i]== 1442:\n",
    "        group_count6.append(i)\n",
    "print (len(group_count6))\n",
    "\n",
    "#7th Group\n",
    "group_count7= []\n",
    "for i in range(0,len(group)):\n",
    "    if group[i]== 7339:\n",
    "        group_count7.append(i)\n",
    "print (len(group_count7))\n",
    "\n",
    "#8th Group\n",
    "group_count8= []\n",
    "for i in range(0,len(group)):\n",
    "    if group[i]== 7369:\n",
    "        group_count8.append(i)\n",
    "print (len(group_count8))\n",
    "\n",
    "#9th Group\n",
    "group_count9= []\n",
    "for i in range(0,len(group)):\n",
    "    if group[i]== 5475:\n",
    "        group_count9.append(i)\n",
    "print (len(group_count9))"
   ]
  },
  {
   "cell_type": "code",
   "execution_count": 43,
   "metadata": {},
   "outputs": [],
   "source": [
    "#Extracting the months from the data by excluding 5 digits from the left hand side and 14 digits from the right \n",
    "#\"Look at the data visualization above\".\n",
    "\n",
    "months = []\n",
    "for i in start_session:\n",
    "    months.append(i[5:-14])\n"
   ]
  },
  {
   "cell_type": "code",
   "execution_count": 45,
   "metadata": {},
   "outputs": [],
   "source": [
    "#counting the number of students for the month of december and exclude the other months \"we will target one month at a time\".\n",
    "\n",
    "dec_time= []\n",
    "for i in range(0,len(months)):\n",
    "    if months[i]== '12':\n",
    "        dec_time.append(i)"
   ]
  },
  {
   "cell_type": "code",
   "execution_count": 46,
   "metadata": {},
   "outputs": [
    {
     "name": "stdout",
     "output_type": "stream",
     "text": [
      "Student count 12269\n",
      "Student count without duplicates 5995\n"
     ]
    }
   ],
   "source": [
    "#Finding the number of students for the month of December.\n",
    "\n",
    "dc_id = [ID[i] for i in dec_time]\n",
    "print('Student count',len(dc_id))\n",
    "\n",
    "dec_ids = []\n",
    "for i in dc_id:\n",
    "    if i not in dec_ids:\n",
    "        dec_ids.append(i)\n",
    "print('Student count without duplicates',len(dec_ids))"
   ]
  },
  {
   "cell_type": "code",
   "execution_count": 47,
   "metadata": {},
   "outputs": [
    {
     "data": {
      "text/plain": [
       "12269"
      ]
     },
     "execution_count": 47,
     "metadata": {},
     "output_type": "execute_result"
    }
   ],
   "source": [
    "#extracting the groups for the month of December.\n",
    "    \n",
    "group1 = []\n",
    "for i in group:\n",
    "    group1.append(i)\n",
    "    \n",
    "group11 = [group1[i] for i in dec_time]\n",
    "len(group11)"
   ]
  },
  {
   "cell_type": "code",
   "execution_count": 48,
   "metadata": {},
   "outputs": [],
   "source": [
    "\n",
    "#start_session.\n",
    "\n",
    "#this for loop will only extract the hour which the session starts.\n",
    "start_hours = []\n",
    "for i in start_session:\n",
    "    start_hours.append(i[10:-8])\n",
    "    \n",
    "starth = [start_hours[i] for i in dec_time]\n",
    "\n",
    "#this for loop will extract the minutes which the session starts.\n",
    "    \n",
    "start_minutes = []\n",
    "for i in start_session:\n",
    "    start_minutes.append(i[14:-5])\n",
    "    \n",
    "    \n",
    "startm = [start_minutes[i] for i in dec_time]\n",
    "\n",
    "\n",
    "#end_session.\n",
    "#this for loop will extract the hours which the session ends.\n",
    "    \n",
    "end_hours = []\n",
    "for i in end_session:\n",
    "    end_hours.append(i[10:-8])\n",
    "    \n",
    "endh = [end_hours[i] for i in dec_time]\n",
    "\n",
    "#this for loop will extract the minutes which the session ends.\n",
    "\n",
    "end_minutes = []\n",
    "for i in end_session:\n",
    "    end_minutes.append(i[14:-5])\n",
    "    \n",
    "    \n",
    "endm = [end_minutes[i] for i in dec_time]\n",
    "\n",
    "#student arrival by the hour.\n",
    "arrival_hours = []\n",
    "for i in arrival:\n",
    "    arrival_hours.append(i[10:-8])\n",
    "\n",
    "arriveh = [arrival_hours[i] for i in dec_time]\n",
    "\n",
    "#student arrival by the minute.\n",
    "\n",
    "arrival_minutes = []\n",
    "for i in arrival:\n",
    "    arrival_minutes.append(i[14:-5])\n",
    "    \n",
    "arrivem = [arrival_minutes[i] for i in dec_time]\n",
    "\n",
    "#Student exit_hours.\n",
    "\n",
    "exit_hours = []\n",
    "for i in exit:\n",
    "    exit_hours.append(i[10:-8])\n",
    "\n",
    "exith = [exit_hours[i] for i in dec_time]\n",
    "\n",
    "#Student exit by the minute.\n",
    "    \n",
    "exit_minutes = []\n",
    "for i in exit:\n",
    "    exit_minutes.append(i[14:-5])\n",
    "    \n",
    "exitm = [exit_minutes[i] for i in dec_time]\n",
    "\n"
   ]
  },
  {
   "cell_type": "code",
   "execution_count": 50,
   "metadata": {},
   "outputs": [
    {
     "name": "stdout",
     "output_type": "stream",
     "text": [
      "Time spent in each class [40 40 41 ... 34 34 41]\n"
     ]
    }
   ],
   "source": [
    "# this will convert string into a numeric so we can apply mathematical formulas to the cleaned up data\n",
    "sstartm2 = pd.to_numeric(startm)\n",
    "sstarth2 = pd.to_numeric(starth)\n",
    "\n",
    "sendm2 =pd.to_numeric(endm)\n",
    "sendh2 = pd.to_numeric(endh)\n",
    "\n",
    "arrivm2 = pd.to_numeric(arrivem)\n",
    "arrivh2 = pd.to_numeric(arriveh)\n",
    "\n",
    "exitm2 = pd.to_numeric(exitm)\n",
    "exith2 = pd.to_numeric(exith)\n",
    "\n",
    "\n",
    "ses_time = sendh2*60+(sendm2) - sstarth2*60+(sstartm2)\n",
    "\n",
    "stud_attend_time = exith2*60+(exitm2) - arrivh2*60+(arrivm2)\n",
    "print ('Time spent in each class',stud_attend_time)"
   ]
  },
  {
   "cell_type": "code",
   "execution_count": 51,
   "metadata": {},
   "outputs": [],
   "source": [
    "#Ceating new columns for the moth of December containing the needed group performances based on student attendance for each \n",
    "#class'group11'.\n",
    "\n",
    "data_saved = pd.DataFrame({'Group':group11, 'session total time minutes': ses_time,\n",
    "                           'Time spent in each class minutes':stud_attend_time})\n",
    "\n",
    "decdata = pd.ExcelWriter(\"clean data.xlsx\", engine='xlsxwriter')\n",
    "\n",
    "data_saved.to_excel(decdata, sheet_name='sheet1')"
   ]
  },
  {
   "cell_type": "code",
   "execution_count": 52,
   "metadata": {},
   "outputs": [],
   "source": [
    "#saving the cleaned up data into a new excel sheet.\n",
    "\n",
    "decdata.save()"
   ]
  },
  {
   "cell_type": "code",
   "execution_count": null,
   "metadata": {},
   "outputs": [],
   "source": []
  }
 ],
 "metadata": {
  "kernelspec": {
   "display_name": "Python 3",
   "language": "python",
   "name": "python3"
  },
  "language_info": {
   "codemirror_mode": {
    "name": "ipython",
    "version": 3
   },
   "file_extension": ".py",
   "mimetype": "text/x-python",
   "name": "python",
   "nbconvert_exporter": "python",
   "pygments_lexer": "ipython3",
   "version": "3.7.4"
  }
 },
 "nbformat": 4,
 "nbformat_minor": 2
}
